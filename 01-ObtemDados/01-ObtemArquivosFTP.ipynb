{
 "cells": [
  {
   "cell_type": "code",
   "execution_count": 18,
   "metadata": {},
   "outputs": [],
   "source": [
    "#instalamos o py7zr através do pip.exe"
   ]
  },
  {
   "cell_type": "markdown",
   "metadata": {},
   "source": [
    "Este script faz o download dos arquivos da RAIS"
   ]
  },
  {
   "cell_type": "markdown",
   "metadata": {},
   "source": [
    "# Importa bibliotecas"
   ]
  },
  {
   "cell_type": "code",
   "execution_count": 15,
   "metadata": {},
   "outputs": [],
   "source": [
    "import shutil\n",
    "import urllib.request as request\n",
    "import py7zr"
   ]
  },
  {
   "cell_type": "markdown",
   "metadata": {},
   "source": [
    "## Download do FTP\n",
    "realiza do downlad do arquivo com extensão 7z e deszipa"
   ]
  },
  {
   "cell_type": "code",
   "execution_count": 13,
   "metadata": {},
   "outputs": [],
   "source": [
    "from contextlib import closing\n",
    "ftp = \"ftp://ftp.mtps.gov.br/pdet/microdados/RAIS/2010/AC2010.7z\"\n",
    "download='ArquivosFTP/AC2010.7z'\n",
    "with closing(request.urlopen(ftp)) as response:\n",
    "    with open(download, 'wb') as file:\n",
    "        shutil.copyfileobj(response, file)"
   ]
  },
  {
   "cell_type": "code",
   "execution_count": 17,
   "metadata": {},
   "outputs": [],
   "source": [
    "archive = py7zr.SevenZipFile('ArquivosFTP/AC2010.7z', mode='r')\n",
    "archive.extractall(path=\"ArquivosFTP\")\n",
    "archive.close()"
   ]
  },
  {
   "cell_type": "code",
   "execution_count": null,
   "metadata": {},
   "outputs": [],
   "source": [
    "loop estados\n",
    "    loop anos"
   ]
  },
  {
   "cell_type": "code",
   "execution_count": null,
   "metadata": {},
   "outputs": [],
   "source": [
    "ano_inicio = 2010\n",
    "ano_fim = 2019\n",
    "estados = ['AC', 'AL','MG']\n",
    "\n",
    "\n",
    "loop ano_inicio\n",
    "    loop x = estados[]\n",
    "        var_est = estados[x]\n",
    "        fun_download()\n",
    "    \n",
    "ano_inicio = ano_inicio + 1"
   ]
  }
 ],
 "metadata": {
  "kernelspec": {
   "display_name": "Python 3",
   "language": "python",
   "name": "python3"
  },
  "language_info": {
   "codemirror_mode": {
    "name": "ipython",
    "version": 3
   },
   "file_extension": ".py",
   "mimetype": "text/x-python",
   "name": "python",
   "nbconvert_exporter": "python",
   "pygments_lexer": "ipython3",
   "version": "3.7.8"
  }
 },
 "nbformat": 4,
 "nbformat_minor": 4
}
